{
 "cells": [
  {
   "cell_type": "code",
   "execution_count": 1,
   "id": "f0a2ec91-eeba-494b-8fad-2938097690ec",
   "metadata": {},
   "outputs": [
    {
     "name": "stdout",
     "output_type": "stream",
     "text": [
      "Defaulting to user installation because normal site-packages is not writeable\n",
      "Requirement already satisfied: heapitem in /home/robTheBob/.local/lib/python3.13/site-packages (from -r requirements.txt (line 1)) (0.1.6)\n",
      "Requirement already satisfied: pympler in /home/robTheBob/.local/lib/python3.13/site-packages (from -r requirements.txt (line 2)) (1.1)\n",
      "Requirement already satisfied: cibuildwheel in /home/robTheBob/.local/lib/python3.13/site-packages (from -r requirements.txt (line 3)) (3.1.4)\n",
      "Requirement already satisfied: bashlex!=0.13 in /home/robTheBob/.local/lib/python3.13/site-packages (from cibuildwheel->-r requirements.txt (line 3)) (0.18)\n",
      "Requirement already satisfied: bracex in /home/robTheBob/.local/lib/python3.13/site-packages (from cibuildwheel->-r requirements.txt (line 3)) (2.6)\n",
      "Requirement already satisfied: build>=1.0.0 in /home/robTheBob/.local/lib/python3.13/site-packages (from cibuildwheel->-r requirements.txt (line 3)) (1.3.0)\n",
      "Requirement already satisfied: certifi in /usr/lib/python3.13/site-packages (from cibuildwheel->-r requirements.txt (line 3)) (2025.7.9)\n",
      "Requirement already satisfied: dependency-groups>=1.2 in /home/robTheBob/.local/lib/python3.13/site-packages (from cibuildwheel->-r requirements.txt (line 3)) (1.3.1)\n",
      "Requirement already satisfied: filelock in /usr/lib/python3.13/site-packages (from cibuildwheel->-r requirements.txt (line 3)) (3.15.4)\n",
      "Requirement already satisfied: humanize in /home/robTheBob/.local/lib/python3.13/site-packages (from cibuildwheel->-r requirements.txt (line 3)) (4.13.0)\n",
      "Requirement already satisfied: packaging>=20.9 in /usr/lib/python3.13/site-packages (from cibuildwheel->-r requirements.txt (line 3)) (24.2)\n",
      "Requirement already satisfied: patchelf in /home/robTheBob/.local/lib/python3.13/site-packages (from cibuildwheel->-r requirements.txt (line 3)) (0.17.2.4)\n",
      "Requirement already satisfied: platformdirs in /home/robTheBob/.local/lib/python3.13/site-packages (from cibuildwheel->-r requirements.txt (line 3)) (4.3.8)\n",
      "Requirement already satisfied: pyelftools>=0.29 in /home/robTheBob/.local/lib/python3.13/site-packages (from cibuildwheel->-r requirements.txt (line 3)) (0.32)\n",
      "Requirement already satisfied: wheel>=0.33.6 in /home/robTheBob/.local/lib/python3.13/site-packages (from cibuildwheel->-r requirements.txt (line 3)) (0.45.1)\n",
      "Requirement already satisfied: pyproject_hooks in /home/robTheBob/.local/lib/python3.13/site-packages (from build>=1.0.0->cibuildwheel->-r requirements.txt (line 3)) (1.2.0)\n",
      "Note: you may need to restart the kernel to use updated packages.\n",
      "Defaulting to user installation because normal site-packages is not writeable\n",
      "Looking in links: wheelhouse\n",
      "Requirement already satisfied: heapcy in /home/robTheBob/.local/lib/python3.13/site-packages (0.1.3)\n",
      "Note: you may need to restart the kernel to use updated packages.\n"
     ]
    }
   ],
   "source": [
    "# Installing required packages\n",
    "%pip install -r requirements.txt\n",
    "%pip install --no-index --find-links=wheelhouse heapcy"
   ]
  },
  {
   "cell_type": "code",
   "execution_count": 2,
   "id": "1d267c7b-4fb8-4a9a-b67d-5e376c266f71",
   "metadata": {},
   "outputs": [],
   "source": [
    "size_of_heap = 100_000\n",
    "import random\n",
    "def gen_random_string(le=12)->str:\n",
    "    alphabet = \"abcdefghijklmnopqrstuvwxyzABCDEFGHIJKLMNOPQRSTUVWXYZ0123456789~!@#$%^&*-_=+;:\\\\`\"\n",
    "    random.seed()\n",
    "    pwd_len= random.randrange(1,le)\n",
    "    prob = random.uniform(0,1)\n",
    "    final_str= \"\"\n",
    "    for _ in range(pwd_len):\n",
    "        char= random.randrange(le)\n",
    "        final_str += alphabet[char]\n",
    "    return final_str + \" \"+str(prob)"
   ]
  },
  {
   "cell_type": "code",
   "execution_count": 3,
   "id": "e3aa323a-e135-454d-bb51-602a5e8aab31",
   "metadata": {},
   "outputs": [],
   "source": [
    "import tempfile\n",
    "def create_temp_file_for_benchmark()->str:\n",
    "    tf = tempfile.NamedTemporaryFile(delete=False)\n",
    "    lis = [ gen_random_string() for _ in range(size_of_heap)]\n",
    "    with open(tf,\"w\") as f_open:\n",
    "        f_open.writelines(lis)\n",
    "    return tf.name\n",
    "    "
   ]
  },
  {
   "cell_type": "code",
   "execution_count": 4,
   "id": "f74de02d-9575-42b9-9f82-7690a5d4f65c",
   "metadata": {},
   "outputs": [],
   "source": [
    "from pympler import asizeof"
   ]
  },
  {
   "cell_type": "code",
   "execution_count": 5,
   "id": "8ac5494f-fa4f-496f-ad6c-f12c21e1884b",
   "metadata": {},
   "outputs": [
    {
     "ename": "TypeError",
     "evalue": "'module' object is not callable",
     "output_type": "error",
     "traceback": [
      "\u001b[31m---------------------------------------------------------------------------\u001b[39m",
      "\u001b[31mTypeError\u001b[39m                                 Traceback (most recent call last)",
      "\u001b[36mCell\u001b[39m\u001b[36m \u001b[39m\u001b[32mIn[5]\u001b[39m\u001b[32m, line 7\u001b[39m\n\u001b[32m      4\u001b[39m \u001b[38;5;28;01mfor\u001b[39;00m i \u001b[38;5;129;01min\u001b[39;00m \u001b[38;5;28mrange\u001b[39m(size_of_heap):\n\u001b[32m      5\u001b[39m     heapq.heappush(heap,HeapItem(\u001b[32m0.5555\u001b[39m,gen_random_string()))\n\u001b[32m----> \u001b[39m\u001b[32m7\u001b[39m \u001b[38;5;28mprint\u001b[39m(\u001b[33mf\u001b[39m\u001b[33m\"\u001b[39m\u001b[33msizeof normal heap with heapitem = \u001b[39m\u001b[38;5;132;01m{\u001b[39;00m\u001b[43masizeof\u001b[49m\u001b[43m(\u001b[49m\u001b[43mheap\u001b[49m\u001b[43m)\u001b[49m\u001b[38;5;132;01m}\u001b[39;00m\u001b[33m\"\u001b[39m)\n\u001b[32m      8\u001b[39m \u001b[38;5;28;01mdel\u001b[39;00m heap\n",
      "\u001b[31mTypeError\u001b[39m: 'module' object is not callable"
     ]
    }
   ],
   "source": [
    "from heapitem import HeapItem\n",
    "import heapq\n",
    "heap = []\n",
    "for i in range(size_of_heap):\n",
    "    heapq.heappush(heap,HeapItem(0.5555,gen_random_string()))\n",
    "    \n",
    "print(f\"sizeof normal heap with heapitem = {asizeof(heap)}\")\n",
    "del heap\n"
   ]
  },
  {
   "cell_type": "code",
   "execution_count": null,
   "id": "40ed1e48-6dc3-43e8-84d2-fd0fdd7e684b",
   "metadata": {},
   "outputs": [],
   "source": [
    "import heapcy,os\n",
    "heap = heapcy.Heap(size_of_heap)\n",
    "tf = create_temp_file_for_benchmark()\n",
    "with open(tf,\"rb\") as f_open:\n",
    "\n",
    "    while True:\n",
    "        offset = f_open.tell()\n",
    "        line = f_open.readline()\n",
    "        if not line:\n",
    "            break\n",
    "\n",
    "        parts = line.rstrip(b\"\\b\\n\").split(b\" \", 1)\n",
    "        if len(parts) != 2:\n",
    "            continue\n",
    "\n",
    "        prob = float(parts[1].decode(encoding=\"ascii\"))\n",
    "        if len(heap)< size_of_heap:\n",
    "            heapcy.heappush(heap)\n",
    "        elif heapcy.heappeek(heap)[0]>prob:\n",
    "            heapcy.heappoppush(heap,prob,offset)\n",
    "\n",
    "print(f\"sizeof special heap = {asizeof(heap)}\")\n",
    "del heap\n",
    "\n"
   ]
  },
  {
   "cell_type": "code",
   "execution_count": null,
   "id": "1e18f321-0d36-4709-ae69-95f56d52d528",
   "metadata": {},
   "outputs": [],
   "source": [
    "import heapq \n",
    "heap = []\n",
    "\n",
    "with open(tf,\"rb\") as f_open:\n",
    "    for line in f_open.readline():\n",
    "\n",
    "        parts = line.split(\" \")\n",
    "        if len(parts) != 2:\n",
    "            continue\n",
    "\n",
    "        prob = float(parts[1].decode(encoding=\"ascii\"))\n",
    "\n",
    "        if len(heap)< size_of_heap:\n",
    "            heapq.heappush(heap,(prob,parts[0]))\n",
    "        elif heap[0][0]>prob:\n",
    "            heapq.heappoppush(heap,prob,offset)\n",
    "\n",
    "print(f\"sizeof special heap = {asizeof(heap)}\")\n",
    "del heap\n",
    "os.remove(tf)"
   ]
  }
 ],
 "metadata": {
  "kernelspec": {
   "display_name": "Python 3 (ipykernel)",
   "language": "python",
   "name": "python3"
  },
  "language_info": {
   "codemirror_mode": {
    "name": "ipython",
    "version": 3
   },
   "file_extension": ".py",
   "mimetype": "text/x-python",
   "name": "python",
   "nbconvert_exporter": "python",
   "pygments_lexer": "ipython3",
   "version": "3.13.7"
  }
 },
 "nbformat": 4,
 "nbformat_minor": 5
}
