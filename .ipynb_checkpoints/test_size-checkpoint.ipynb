{
 "cells": [
  {
   "cell_type": "code",
   "execution_count": null,
   "id": "f0a2ec91-eeba-494b-8fad-2938097690ec",
   "metadata": {},
   "outputs": [],
   "source": [
    "# Installing required packages\n",
    "%pip install -r requirements.txt\n",
    "%pip install --upgrade --no-index --find-links=wheelhouse heapcy"
   ]
  },
  {
   "cell_type": "code",
   "execution_count": null,
   "id": "1d267c7b-4fb8-4a9a-b67d-5e376c266f71",
   "metadata": {},
   "outputs": [],
   "source": [
    "size_of_heap = 100_000\n",
    "import random\n",
    "def gen_random_string(le=12)->str:\n",
    "    alphabet = \"abcdefghijklmnopqrstuvwxyzABCDEFGHIJKLMNOPQRSTUVWXYZ0123456789~!@#$%^&*-_=+;:\\\\`\"\n",
    "    random.seed()\n",
    "    pwd_len= random.randrange(1,le)\n",
    "    prob = random.uniform(0,1)\n",
    "    final_str= \"\"\n",
    "    for _ in range(pwd_len):\n",
    "        char= random.randrange(le)\n",
    "        final_str += alphabet[char]\n",
    "    return final_str + \" \"+str(prob)"
   ]
  },
  {
   "cell_type": "code",
   "execution_count": null,
   "id": "e3aa323a-e135-454d-bb51-602a5e8aab31",
   "metadata": {},
   "outputs": [],
   "source": [
    "import tempfile\n",
    "def create_temp_file_for_benchmark()->str:\n",
    "    tf = tempfile.NamedTemporaryFile(delete=False)\n",
    "    lis = [ gen_random_string() for _ in range(size_of_heap)]\n",
    "    with open(tf,\"w\") as f_open:\n",
    "        f_open.writelines(lis)\n",
    "    return tf.name\n",
    "    "
   ]
  },
  {
   "cell_type": "code",
   "execution_count": null,
   "id": "8ac5494f-fa4f-496f-ad6c-f12c21e1884b",
   "metadata": {},
   "outputs": [],
   "source": [
    "from heapitem import HeapItem\n",
    "from pympler import asizeof\n",
    "import heapq\n",
    "heap = []\n",
    "for i in range(size_of_heap):\n",
    "    heapq.heappush(heap,HeapItem(0.5555,gen_random_string()))\n",
    "    \n",
    "print(f\"sizeof normal heap with heapitem = {asizeof.asizeof(heap)/1000/1000}MB\")\n",
    "del heap\n"
   ]
  },
  {
   "cell_type": "code",
   "execution_count": null,
   "id": "40ed1e48-6dc3-43e8-84d2-fd0fdd7e684b",
   "metadata": {},
   "outputs": [],
   "source": [
    "import heapcy,os\n",
    "heap = heapcy.Heap(size_of_heap)\n",
    "tf = create_temp_file_for_benchmark()\n",
    "with open(tf,\"rb\") as f_open:\n",
    "\n",
    "    while True:\n",
    "        offset = f_open.tell()\n",
    "        line = f_open.readline()\n",
    "        if not line:\n",
    "            break\n",
    "\n",
    "        parts = line.rstrip(b\"\\b\\n\").split(b\" \", 1)\n",
    "        if len(parts) != 2:\n",
    "            continue\n",
    "\n",
    "        prob = float(parts[1].decode(encoding=\"ascii\"))\n",
    "        if len(heap)< size_of_heap:\n",
    "            heapcy.heappush(heap)\n",
    "        elif heapcy.heappeek(heap)[0]>prob:\n",
    "            heapcy.heappoppush(heap,prob,offset)\n",
    "\n",
    "print(f\"sizeof special heap = {asizeof.asizeof(heap)/1000/1000}MB\")\n",
    "del heap"
   ]
  },
  {
   "cell_type": "code",
   "execution_count": null,
   "id": "1e18f321-0d36-4709-ae69-95f56d52d528",
   "metadata": {},
   "outputs": [],
   "source": [
    "import heapq \n",
    "heap = []\n",
    "\n",
    "with open(tf,\"rb\") as f_open:\n",
    "    for line in f_open.readline():\n",
    "\n",
    "        parts = line.split(\" \")\n",
    "        if len(parts) != 2:\n",
    "            continue\n",
    "\n",
    "        prob = float(parts[1].decode(encoding=\"ascii\"))\n",
    "\n",
    "        if len(heap)< size_of_heap:\n",
    "            heapq.heappush(heap,(prob,parts[0]))\n",
    "        elif heap[0][0]>prob:\n",
    "            heapq.heappoppush(heap,prob,offset)\n",
    "\n",
    "print(f\"sizeof special heap = {asizeof.asizeof(heap)/1000/1000}MB\")\n",
    "del heap\n",
    "os.remove(tf)"
   ]
  }
 ],
 "metadata": {
  "kernelspec": {
   "display_name": "Python 3 (ipykernel)",
   "language": "python",
   "name": "python3"
  },
  "language_info": {
   "codemirror_mode": {
    "name": "ipython",
    "version": 3
   },
   "file_extension": ".py",
   "mimetype": "text/x-python",
   "name": "python",
   "nbconvert_exporter": "python",
   "pygments_lexer": "ipython3",
   "version": "3.13.7"
  }
 },
 "nbformat": 4,
 "nbformat_minor": 5
}
