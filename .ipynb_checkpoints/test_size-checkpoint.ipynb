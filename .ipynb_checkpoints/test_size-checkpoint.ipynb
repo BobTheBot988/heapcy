{
 "cells": [
  {
   "cell_type": "code",
   "execution_count": null,
   "id": "f0a2ec91-eeba-494b-8fad-2938097690ec",
   "metadata": {},
   "outputs": [],
   "source": [
    "# Installing required packages\n",
    "%pip install -r requirements.txt"
   ]
  },
  {
   "cell_type": "code",
   "execution_count": null,
   "id": "1d267c7b-4fb8-4a9a-b67d-5e376c266f71",
   "metadata": {},
   "outputs": [],
   "source": [
    "size_of_heap = 100_000\n",
    "import random\n",
    "def gen_random_string(le=12)->str:\n",
    "    alphabet = \"abcdefghijklmnopqrstuvwxyzABCDEFGHIJKLMNOPQRSTUVWXYZ0123456789~!@#$%^&*(),.<>/?'\"{}[]|-_=+;:`\"\n",
    "    random.seed()\n",
    "    pwd_len= random.randrange(1,le)\n",
    "    final_str= \"\"\n",
    "    for _ in range(pwd_len):\n",
    "        char= random.randrange(le)\n",
    "        final_str += alphabet[char]\n",
    "    return final_str"
   ]
  },
  {
   "cell_type": "code",
   "execution_count": null,
   "id": "f74de02d-9575-42b9-9f82-7690a5d4f65c",
   "metadata": {},
   "outputs": [],
   "source": [
    "from pympler import asizeof"
   ]
  },
  {
   "cell_type": "code",
   "execution_count": null,
   "id": "8ac5494f-fa4f-496f-ad6c-f12c21e1884b",
   "metadata": {},
   "outputs": [],
   "source": [
    "from heapitem import HeapItem\n",
    "import heapq\n",
    "heap = []\n",
    "for i in range(size_of_heap):\n",
    "    heapq.heappush(heap,HeapItem(0.5555,get_random_string()))\n",
    "    \n",
    "print(f\"sizeof normal heap with heapitem = {asizeof(heap)}\")\n",
    "del heap\n"
   ]
  },
  {
   "cell_type": "code",
   "execution_count": null,
   "id": "40ed1e48-6dc3-43e8-84d2-fd0fdd7e684b",
   "metadata": {},
   "outputs": [],
   "source": [
    "import heapc\n",
    "heap = heapc.Heap(size_of_heap)\n",
    "for i in range(size_of_heap):\n",
    "    heapc.heappush(heap,(0.5555,get_random_string()))\n",
    "    \n",
    "print(f\"sizeof special heap = {asizeof(heap)}\")\n",
    "del heap\n"
   ]
  },
  {
   "cell_type": "code",
   "execution_count": 2,
   "id": "4ac3b05f-e9fd-4d6e-8330-6317c74be08f",
   "metadata": {},
   "outputs": [
    {
     "ename": "NameError",
     "evalue": "name 'true' is not defined",
     "output_type": "error",
     "traceback": [
      "\u001b[31m---------------------------------------------------------------------------\u001b[39m",
      "\u001b[31mNameError\u001b[39m                                 Traceback (most recent call last)",
      "\u001b[36mCell\u001b[39m\u001b[36m \u001b[39m\u001b[32mIn[2]\u001b[39m\u001b[32m, line 3\u001b[39m\n\u001b[32m      1\u001b[39m a = [\u001b[32m2\u001b[39m,\u001b[32m5\u001b[39m,\u001b[32m132\u001b[39m,\u001b[32m652\u001b[39m,\u001b[32m362\u001b[39m]\n\u001b[32m      2\u001b[39m s = \u001b[38;5;28mset\u001b[39m()\n\u001b[32m----> \u001b[39m\u001b[32m3\u001b[39m \u001b[38;5;28;01mfor\u001b[39;00m n \u001b[38;5;129;01min\u001b[39;00m \u001b[38;5;28msorted\u001b[39m(a,reverse=\u001b[43mtrue\u001b[49m):\n\u001b[32m      4\u001b[39m     s.add(n)\n\u001b[32m      5\u001b[39m \u001b[38;5;28mprint\u001b[39m(s)\n",
      "\u001b[31mNameError\u001b[39m: name 'true' is not defined"
     ]
    }
   ],
   "source": [
    "a = [2,5,132,652,362]\n",
    "s = set()\n",
    "for n in sorted(a,reverse=True):\n",
    "    s.add(n)\n",
    "print(s)"
   ]
  },
  {
   "cell_type": "code",
   "execution_count": null,
   "id": "9753cd72-ed89-492b-97e5-47223189c16c",
   "metadata": {},
   "outputs": [],
   "source": []
  }
 ],
 "metadata": {
  "kernelspec": {
   "display_name": "Python 3 (ipykernel)",
   "language": "python",
   "name": "python3"
  },
  "language_info": {
   "codemirror_mode": {
    "name": "ipython",
    "version": 3
   },
   "file_extension": ".py",
   "mimetype": "text/x-python",
   "name": "python",
   "nbconvert_exporter": "python",
   "pygments_lexer": "ipython3",
   "version": "3.13.7"
  }
 },
 "nbformat": 4,
 "nbformat_minor": 5
}
