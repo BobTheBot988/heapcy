{
 "cells": [
  {
   "cell_type": "code",
   "execution_count": 1,
   "id": "f0a2ec91-eeba-494b-8fad-2938097690ec",
   "metadata": {},
   "outputs": [
    {
     "name": "stdout",
     "output_type": "stream",
     "text": [
      "Defaulting to user installation because normal site-packages is not writeable\n",
      "Requirement already satisfied: heapitem in /home/robTheBob/.local/lib/python3.13/site-packages (from -r requirements.txt (line 1)) (0.1.6)\n",
      "Requirement already satisfied: pympler in /home/robTheBob/.local/lib/python3.13/site-packages (from -r requirements.txt (line 2)) (1.1)\n",
      "Requirement already satisfied: cibuildwheel in /home/robTheBob/.local/lib/python3.13/site-packages (from -r requirements.txt (line 3)) (3.1.4)\n",
      "Requirement already satisfied: bashlex!=0.13 in /home/robTheBob/.local/lib/python3.13/site-packages (from cibuildwheel->-r requirements.txt (line 3)) (0.18)\n",
      "Requirement already satisfied: bracex in /home/robTheBob/.local/lib/python3.13/site-packages (from cibuildwheel->-r requirements.txt (line 3)) (2.6)\n",
      "Requirement already satisfied: build>=1.0.0 in /home/robTheBob/.local/lib/python3.13/site-packages (from cibuildwheel->-r requirements.txt (line 3)) (1.3.0)\n",
      "Requirement already satisfied: certifi in /usr/lib/python3.13/site-packages (from cibuildwheel->-r requirements.txt (line 3)) (2025.7.9)\n",
      "Requirement already satisfied: dependency-groups>=1.2 in /home/robTheBob/.local/lib/python3.13/site-packages (from cibuildwheel->-r requirements.txt (line 3)) (1.3.1)\n",
      "Requirement already satisfied: filelock in /usr/lib/python3.13/site-packages (from cibuildwheel->-r requirements.txt (line 3)) (3.15.4)\n",
      "Requirement already satisfied: humanize in /home/robTheBob/.local/lib/python3.13/site-packages (from cibuildwheel->-r requirements.txt (line 3)) (4.13.0)\n",
      "Requirement already satisfied: packaging>=20.9 in /usr/lib/python3.13/site-packages (from cibuildwheel->-r requirements.txt (line 3)) (24.2)\n",
      "Requirement already satisfied: patchelf in /home/robTheBob/.local/lib/python3.13/site-packages (from cibuildwheel->-r requirements.txt (line 3)) (0.17.2.4)\n",
      "Requirement already satisfied: platformdirs in /home/robTheBob/.local/lib/python3.13/site-packages (from cibuildwheel->-r requirements.txt (line 3)) (4.3.8)\n",
      "Requirement already satisfied: pyelftools>=0.29 in /home/robTheBob/.local/lib/python3.13/site-packages (from cibuildwheel->-r requirements.txt (line 3)) (0.32)\n",
      "Requirement already satisfied: wheel>=0.33.6 in /home/robTheBob/.local/lib/python3.13/site-packages (from cibuildwheel->-r requirements.txt (line 3)) (0.45.1)\n",
      "Requirement already satisfied: pyproject_hooks in /home/robTheBob/.local/lib/python3.13/site-packages (from build>=1.0.0->cibuildwheel->-r requirements.txt (line 3)) (1.2.0)\n",
      "Note: you may need to restart the kernel to use updated packages.\n",
      "Defaulting to user installation because normal site-packages is not writeable\n",
      "Looking in links: wheelhouse\n",
      "Requirement already satisfied: heapcy in /home/robTheBob/.local/lib/python3.13/site-packages (0.1.6)\n",
      "Note: you may need to restart the kernel to use updated packages.\n"
     ]
    }
   ],
   "source": [
    "# Installing required packages\n",
    "%pip install -r requirements.txt\n",
    "%pip install --upgrade --no-index --find-links=wheelhouse heapcy"
   ]
  },
  {
   "cell_type": "code",
   "execution_count": 2,
   "id": "1d267c7b-4fb8-4a9a-b67d-5e376c266f71",
   "metadata": {},
   "outputs": [],
   "source": [
    "size_of_heap = 100_000\n",
    "import random\n",
    "def gen_random_string(le=12)->str:\n",
    "    alphabet = \"abcdefghijklmnopqrstuvwxyzABCDEFGHIJKLMNOPQRSTUVWXYZ0123456789~!@#$%^&*-_=+;:\\\\`\"\n",
    "    random.seed()\n",
    "    pwd_len= random.randrange(1,le)\n",
    "    prob = random.uniform(0,1)\n",
    "    final_str= \"\"\n",
    "    for _ in range(pwd_len):\n",
    "        char= random.randrange(le)\n",
    "        final_str += alphabet[char]\n",
    "    return final_str + \" \"+str(prob)+\"\\n\""
   ]
  },
  {
   "cell_type": "code",
   "execution_count": 3,
   "id": "e3aa323a-e135-454d-bb51-602a5e8aab31",
   "metadata": {},
   "outputs": [],
   "source": [
    "import tempfile\n",
    "def create_temp_file_for_benchmark()->str:\n",
    "    tf = tempfile.NamedTemporaryFile(delete=False)\n",
    "    lis = [ gen_random_string() for _ in range(size_of_heap)]\n",
    "    with open(tf.name,\"w\") as f_open:\n",
    "        f_open.writelines(lis)\n",
    "    return tf.name\n",
    "    "
   ]
  },
  {
   "cell_type": "code",
   "execution_count": 4,
   "id": "1e18f321-0d36-4709-ae69-95f56d52d528",
   "metadata": {},
   "outputs": [
    {
     "name": "stdout",
     "output_type": "stream",
     "text": [
      "sizeof  heapq = 12.723688MB\n"
     ]
    }
   ],
   "source": [
    "import heapq \n",
    "from pympler import asizeof\n",
    "heap = []\n",
    "tf = create_temp_file_for_benchmark()\n",
    "\n",
    "with open(tf,\"rb\") as f_open:\n",
    "     while True:\n",
    "        line = f_open.readline()\n",
    "        if not line:\n",
    "            break\n",
    "        parts = line.split(b\" \")\n",
    "        if len(parts) != 2:\n",
    "            continue\n",
    "\n",
    "        prob = float(parts[1].decode(encoding=\"ascii\"))\n",
    "\n",
    "        if len(heap)< size_of_heap:\n",
    "            heapq.heappush(heap,(prob,parts[0]))\n",
    "        elif heap[0][0]>prob:\n",
    "            heapq.heappoppush(heap,(prob,parts[0]))\n",
    "size_of_heapq=asizeof.asizeof(heap)/1000/1000\n",
    "print(f\"sizeof  heapq = {size_of_heapq}MB\")\n",
    "del heap"
   ]
  },
  {
   "cell_type": "code",
   "execution_count": 5,
   "id": "8ac5494f-fa4f-496f-ad6c-f12c21e1884b",
   "metadata": {},
   "outputs": [
    {
     "name": "stdout",
     "output_type": "stream",
     "text": [
      "sizeof normal heap with heapitem = 5.091168MB\n"
     ]
    }
   ],
   "source": [
    "from heapitem import HeapItem\n",
    "import heapq\n",
    "heap = []\n",
    "with open(tf,\"rb\") as f_open:\n",
    "    while True:\n",
    "        line = f_open.readline()\n",
    "        if not line:\n",
    "            break\n",
    "        parts = line.split(b\" \",1)\n",
    "        \n",
    "        heapq.heappush(heap,HeapItem(float(parts[1]),parts[0].decode(encoding=\"ascii\")))\n",
    "size_of_heapitem=asizeof.asizeof(heap)/1000/1000\n",
    "print(f\"sizeof normal heap with heapitem = {size_of_heapitem}MB\")\n",
    "del heap"
   ]
  },
  {
   "cell_type": "code",
   "execution_count": 6,
   "id": "40ed1e48-6dc3-43e8-84d2-fd0fdd7e684b",
   "metadata": {},
   "outputs": [
    {
     "name": "stdout",
     "output_type": "stream",
     "text": [
      "sizeof special heap = 1.6000560000000001MB\n"
     ]
    }
   ],
   "source": [
    "import heapcy,os\n",
    "heap = heapcy.Heap(size_of_heap)\n",
    "with open(tf,\"rb\") as f_open:\n",
    "\n",
    "    while True:\n",
    "        offset = f_open.tell()\n",
    "        line = f_open.readline()\n",
    "        if not line:\n",
    "            break\n",
    "\n",
    "        parts = line.split(b\" \", 1)\n",
    "        if len(parts) != 2:\n",
    "            continue\n",
    "\n",
    "        prob = float(parts[1].decode(encoding=\"ascii\"))\n",
    "        if len(heap)< size_of_heap:\n",
    "            heapcy.heappush(heap,prob,offset)\n",
    "        elif heapcy.heappeek(heap)[0]>prob:\n",
    "            heapcy.heappoppush(heap,prob,offset)\n",
    "\n",
    "size_of_based_heap=asizeof.asizeof(heap)/1000/1000\n",
    "print(f\"sizeof special heap = {size_of_based_heap}MB\")\n",
    "del heap\n",
    "os.remove(tf)"
   ]
  },
  {
   "cell_type": "code",
   "execution_count": 7,
   "id": "31285adf-b7e4-4b79-accc-56f561a8a31e",
   "metadata": {},
   "outputs": [
    {
     "data": {
      "image/png": "[encoded data removed]",
      "text/plain": [
       "<Figure size 640x480 with 1 Axes>"
      ]
     },
     "metadata": {},
     "output_type": "display_data"
    },
    {
     "data": {
      "text/plain": [
       "<Figure size 2560x1280 with 0 Axes>"
      ]
     },
     "metadata": {},
     "output_type": "display_data"
    }
   ],
   "source": [
    "import matplotlib.pyplot as plt\n",
    "\n",
    "fig, ax = plt.subplots()\n",
    "\n",
    "implementation = ['python', 'heap-item','heapcy']\n",
    "size = [size_of_heapq,size_of_heapitem,size_of_based_heap]\n",
    "bar_labels = ['pure python', 'heap-item','heapcy']\n",
    "bar_colors = ['tab:red', 'tab:blue', 'tab:orange']\n",
    "\n",
    "ax.bar(implementation, size, label=bar_labels, color=bar_colors)\n",
    "\n",
    "ax.set_ylabel('Mem usage in MB'+str(size_of_heap))\n",
    "ax.set_title('Memory Usage by used implementation')\n",
    "ax.legend(title='Implementation')\n",
    "plt.figure(figsize=(32, 16), dpi=80)\n",
    "plt.show()\n",
    "plt.savefig(f'./benchmarks-plot/benchmark-{size_of_heap}.png', bbox_inches='tight')"
   ]
  },
  {
   "cell_type": "code",
   "execution_count": null,
   "id": "cad2d95a-a2b2-4ff6-97d5-45a092693276",
   "metadata": {},
   "outputs": [],
   "source": []
  }
 ],
 "metadata": {
  "kernelspec": {
   "display_name": "Python 3 (ipykernel)",
   "language": "python",
   "name": "python3"
  },
  "language_info": {
   "codemirror_mode": {
    "name": "ipython",
    "version": 3
   },
   "file_extension": ".py",
   "mimetype": "text/x-python",
   "name": "python",
   "nbconvert_exporter": "python",
   "pygments_lexer": "ipython3",
   "version": "3.13.7"
  }
 },
 "nbformat": 4,
 "nbformat_minor": 5
}
